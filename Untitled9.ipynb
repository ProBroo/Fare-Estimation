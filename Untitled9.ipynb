{
  "nbformat": 4,
  "nbformat_minor": 0,
  "metadata": {
    "colab": {
      "name": "Untitled9.ipynb",
      "provenance": []
    },
    "kernelspec": {
      "name": "python3",
      "display_name": "Python 3"
    },
    "accelerator": "GPU"
  },
  "cells": [
    {
      "cell_type": "code",
      "metadata": {
        "id": "uBKP5bhLGyQB",
        "colab_type": "code",
        "colab": {}
      },
      "source": [
        "import numpy as np # linear algebra\n",
        "import pandas as pd # data processing, CSV file I/O (e.g. pd.read_csv)\n",
        "\n",
        "# Input data files are available in the \"../input/\" directory.\n",
        "# For example, running this (by clicking run or pressing Shift+Enter) will list the files in the input directory\n",
        "\n",
        "from datetime import datetime\n",
        "from scipy.stats import skew  # for some statistics\n",
        "from scipy.special import boxcox1p\n",
        "from scipy.stats import boxcox_normmax\n",
        "from sklearn.linear_model import ElasticNetCV, LassoCV, RidgeCV\n",
        "from sklearn.ensemble import GradientBoostingRegressor\n",
        "from sklearn.svm import SVR\n",
        "from sklearn.pipeline import make_pipeline\n",
        "from sklearn.preprocessing import RobustScaler\n",
        "from sklearn.model_selection import KFold, cross_val_score\n",
        "from sklearn.metrics import mean_squared_error\n",
        "from mlxtend.regressor import StackingCVRegressor\n",
        "from xgboost import XGBRegressor\n",
        "from lightgbm import LGBMRegressor\n",
        "import matplotlib.pyplot as plt\n",
        "import scipy.stats as stats\n",
        "import sklearn.linear_model as linear_model\n",
        "import seaborn as sns\n",
        "from sklearn.manifold import TSNE\n",
        "from sklearn.cluster import KMeans\n",
        "from sklearn.decomposition import PCA\n",
        "from sklearn.preprocessing import StandardScaler\n",
        "\n"
      ],
      "execution_count": 0,
      "outputs": []
    },
    {
      "cell_type": "code",
      "metadata": {
        "id": "4ppeSHQsHHjk",
        "colab_type": "code",
        "colab": {}
      },
      "source": [
        "df=pd.read_excel(\"Airline Dataset1.csv.xlsx\")"
      ],
      "execution_count": 0,
      "outputs": []
    },
    {
      "cell_type": "code",
      "metadata": {
        "id": "FPcpWTnhHVFQ",
        "colab_type": "code",
        "outputId": "2763ef4c-cacf-48ee-d129-a03606457a1c",
        "colab": {
          "base_uri": "https://localhost:8080/",
          "height": 202
        }
      },
      "source": [
        "df.head()"
      ],
      "execution_count": 0,
      "outputs": [
        {
          "output_type": "execute_result",
          "data": {
            "text/html": [
              "<div>\n",
              "<style scoped>\n",
              "    .dataframe tbody tr th:only-of-type {\n",
              "        vertical-align: middle;\n",
              "    }\n",
              "\n",
              "    .dataframe tbody tr th {\n",
              "        vertical-align: top;\n",
              "    }\n",
              "\n",
              "    .dataframe thead th {\n",
              "        text-align: right;\n",
              "    }\n",
              "</style>\n",
              "<table border=\"1\" class=\"dataframe\">\n",
              "  <thead>\n",
              "    <tr style=\"text-align: right;\">\n",
              "      <th></th>\n",
              "      <th>SL. No.</th>\n",
              "      <th>Class</th>\n",
              "      <th>Age</th>\n",
              "      <th>time</th>\n",
              "      <th>adv_bookdays</th>\n",
              "      <th>weekday</th>\n",
              "      <th>month</th>\n",
              "      <th>monthday</th>\n",
              "      <th>demand</th>\n",
              "      <th>from_ind</th>\n",
              "      <th>to_ind</th>\n",
              "      <th>Fare</th>\n",
              "    </tr>\n",
              "  </thead>\n",
              "  <tbody>\n",
              "    <tr>\n",
              "      <th>0</th>\n",
              "      <td>1</td>\n",
              "      <td>0</td>\n",
              "      <td>77.2</td>\n",
              "      <td>39</td>\n",
              "      <td>69</td>\n",
              "      <td>0</td>\n",
              "      <td>0</td>\n",
              "      <td>3</td>\n",
              "      <td>1</td>\n",
              "      <td>5</td>\n",
              "      <td>4</td>\n",
              "      <td>11854.27</td>\n",
              "    </tr>\n",
              "    <tr>\n",
              "      <th>1</th>\n",
              "      <td>2</td>\n",
              "      <td>0</td>\n",
              "      <td>45.3</td>\n",
              "      <td>34</td>\n",
              "      <td>10</td>\n",
              "      <td>4</td>\n",
              "      <td>1</td>\n",
              "      <td>11</td>\n",
              "      <td>1</td>\n",
              "      <td>2</td>\n",
              "      <td>4</td>\n",
              "      <td>14968.50</td>\n",
              "    </tr>\n",
              "    <tr>\n",
              "      <th>2</th>\n",
              "      <td>3</td>\n",
              "      <td>0</td>\n",
              "      <td>70.9</td>\n",
              "      <td>36</td>\n",
              "      <td>17</td>\n",
              "      <td>1</td>\n",
              "      <td>2</td>\n",
              "      <td>7</td>\n",
              "      <td>1</td>\n",
              "      <td>1</td>\n",
              "      <td>4</td>\n",
              "      <td>5859.32</td>\n",
              "    </tr>\n",
              "    <tr>\n",
              "      <th>3</th>\n",
              "      <td>4</td>\n",
              "      <td>0</td>\n",
              "      <td>35.1</td>\n",
              "      <td>31</td>\n",
              "      <td>28</td>\n",
              "      <td>1</td>\n",
              "      <td>4</td>\n",
              "      <td>9</td>\n",
              "      <td>1</td>\n",
              "      <td>7</td>\n",
              "      <td>4</td>\n",
              "      <td>2774.19</td>\n",
              "    </tr>\n",
              "    <tr>\n",
              "      <th>4</th>\n",
              "      <td>5</td>\n",
              "      <td>0</td>\n",
              "      <td>41.8</td>\n",
              "      <td>33</td>\n",
              "      <td>17</td>\n",
              "      <td>4</td>\n",
              "      <td>6</td>\n",
              "      <td>28</td>\n",
              "      <td>1</td>\n",
              "      <td>7</td>\n",
              "      <td>4</td>\n",
              "      <td>3833.66</td>\n",
              "    </tr>\n",
              "  </tbody>\n",
              "</table>\n",
              "</div>"
            ],
            "text/plain": [
              "   SL. No.  Class   Age  time  ...  demand  from_ind  to_ind      Fare\n",
              "0        1      0  77.2    39  ...       1         5       4  11854.27\n",
              "1        2      0  45.3    34  ...       1         2       4  14968.50\n",
              "2        3      0  70.9    36  ...       1         1       4   5859.32\n",
              "3        4      0  35.1    31  ...       1         7       4   2774.19\n",
              "4        5      0  41.8    33  ...       1         7       4   3833.66\n",
              "\n",
              "[5 rows x 12 columns]"
            ]
          },
          "metadata": {
            "tags": []
          },
          "execution_count": 45
        }
      ]
    },
    {
      "cell_type": "code",
      "metadata": {
        "id": "RgF_j2hMKhm2",
        "colab_type": "code",
        "outputId": "caf4958f-8346-456d-ef5d-c5a72adedf22",
        "colab": {
          "base_uri": "https://localhost:8080/",
          "height": 711
        }
      },
      "source": [
        "f,ax=plt.subplots(figsize=(11,11))\n",
        "sns.heatmap(df.corr(),annot=True,linewidths=.5, fmt='.03f',ax=ax)\n",
        "plt.show()"
      ],
      "execution_count": 0,
      "outputs": [
        {
          "output_type": "display_data",
          "data": {
            "image/png": "[encoded data removed]",
            "text/plain": [
              "<Figure size 792x792 with 2 Axes>"
            ]
          },
          "metadata": {
            "tags": []
          }
        }
      ]
    },
    {
      "cell_type": "code",
      "metadata": {
        "id": "-BE9hI7XHavu",
        "colab_type": "code",
        "colab": {}
      },
      "source": [
        "y=df.Fare\n",
        "df=df.drop([\"Fare\",\"SL. No.\"],axis=1)\n"
      ],
      "execution_count": 0,
      "outputs": []
    },
    {
      "cell_type": "markdown",
      "metadata": {
        "id": "H7DGMRsJLW2-",
        "colab_type": "text"
      },
      "source": [
        "As you can see  from the heatmap. There  is no co-relation in features."
      ]
    },
    {
      "cell_type": "code",
      "metadata": {
        "id": "s0Ph6PP9HtMe",
        "colab_type": "code",
        "outputId": "1e405434-f4ad-4599-f64d-c4c1442c4aa1",
        "colab": {
          "base_uri": "https://localhost:8080/",
          "height": 35
        }
      },
      "source": [
        "\n",
        "msk = np.random.rand(len(df)) < 0.8\n",
        "train=df[msk]\n",
        "test=df[~msk]\n",
        "len(train)"
      ],
      "execution_count": 0,
      "outputs": [
        {
          "output_type": "execute_result",
          "data": {
            "text/plain": [
              "3994"
            ]
          },
          "metadata": {
            "tags": []
          },
          "execution_count": 17
        }
      ]
    },
    {
      "cell_type": "code",
      "metadata": {
        "id": "um3aJitbH3XB",
        "colab_type": "code",
        "colab": {}
      },
      "source": [
        "quantitative = [f for f in train.columns if train.dtypes[f] != 'object']\n",
        "qualitative = [f for f in train.columns if train.dtypes[f] == 'object']"
      ],
      "execution_count": 0,
      "outputs": []
    },
    {
      "cell_type": "code",
      "metadata": {
        "id": "UjWTp9ExIkza",
        "colab_type": "code",
        "outputId": "4488c8ef-70c8-446c-9144-3bc0d20191fd",
        "colab": {
          "base_uri": "https://localhost:8080/",
          "height": 35
        }
      },
      "source": [
        "qualitative\n",
        "\n"
      ],
      "execution_count": 0,
      "outputs": [
        {
          "output_type": "execute_result",
          "data": {
            "text/plain": [
              "[]"
            ]
          },
          "metadata": {
            "tags": []
          },
          "execution_count": 21
        }
      ]
    },
    {
      "cell_type": "code",
      "metadata": {
        "id": "KmfHpSUTIofo",
        "colab_type": "code",
        "outputId": "9e936a69-9efa-4494-a17b-4e45323431fe",
        "colab": {
          "base_uri": "https://localhost:8080/",
          "height": 208
        }
      },
      "source": [
        "sns.set_style(\"whitegrid\")\n",
        "missing = train.isnull().sum()\n",
        "missing"
      ],
      "execution_count": 0,
      "outputs": [
        {
          "output_type": "execute_result",
          "data": {
            "text/plain": [
              "Class           0\n",
              "Age             0\n",
              "time            0\n",
              "adv_bookdays    0\n",
              "weekday         0\n",
              "month           0\n",
              "monthday        0\n",
              "demand          0\n",
              "from_ind        0\n",
              "to_ind          0\n",
              "dtype: int64"
            ]
          },
          "metadata": {
            "tags": []
          },
          "execution_count": 24
        }
      ]
    },
    {
      "cell_type": "code",
      "metadata": {
        "id": "EFwOLSp_JHUs",
        "colab_type": "code",
        "colab": {}
      },
      "source": [
        "from sklearn.decomposition import PCA"
      ],
      "execution_count": 0,
      "outputs": []
    },
    {
      "cell_type": "code",
      "metadata": {
        "id": "F4K8RaLBMKdb",
        "colab_type": "code",
        "outputId": "e61d2d85-beab-40cf-85d0-60605c9db4a0",
        "colab": {
          "base_uri": "https://localhost:8080/",
          "height": 52
        }
      },
      "source": [
        "num_labels = 5\n",
        "X_sample = train[y <= num_labels]\n",
        "y_sample = y[y <= num_labels]"
      ],
      "execution_count": 0,
      "outputs": [
        {
          "output_type": "stream",
          "text": [
            "/usr/local/lib/python3.6/dist-packages/ipykernel_launcher.py:2: UserWarning: Boolean Series key will be reindexed to match DataFrame index.\n",
            "  \n"
          ],
          "name": "stderr"
        }
      ]
    },
    {
      "cell_type": "code",
      "metadata": {
        "id": "RDGBL5qdMuhv",
        "colab_type": "code",
        "colab": {}
      },
      "source": [
        "from sklearn.preprocessing import scale, StandardScaler\n",
        "scaler = StandardScaler()"
      ],
      "execution_count": 0,
      "outputs": []
    },
    {
      "cell_type": "code",
      "metadata": {
        "id": "S9FcQGHtMyBv",
        "colab_type": "code",
        "outputId": "89f18132-7bfc-4c40-e2a1-4d962576a03e",
        "colab": {
          "base_uri": "https://localhost:8080/",
          "height": 35
        }
      },
      "source": [
        "print(scaler.fit(test))"
      ],
      "execution_count": 0,
      "outputs": [
        {
          "output_type": "stream",
          "text": [
            "StandardScaler(copy=True, with_mean=True, with_std=True)\n"
          ],
          "name": "stdout"
        }
      ]
    },
    {
      "cell_type": "code",
      "metadata": {
        "id": "1R5fHglDN2Ks",
        "colab_type": "code",
        "colab": {}
      },
      "source": [
        "df=scaler.transform(df)"
      ],
      "execution_count": 0,
      "outputs": []
    },
    {
      "cell_type": "code",
      "metadata": {
        "id": "S8C5ITOzODvB",
        "colab_type": "code",
        "colab": {}
      },
      "source": [
        "test=scaler.transform(test)\n"
      ],
      "execution_count": 0,
      "outputs": []
    },
    {
      "cell_type": "code",
      "metadata": {
        "id": "vpCcYAMEOIQt",
        "colab_type": "code",
        "colab": {}
      },
      "source": [
        "pca = PCA(n_components = 2)\n",
        "X_2d = pca.fit_transform(df)"
      ],
      "execution_count": 0,
      "outputs": []
    },
    {
      "cell_type": "code",
      "metadata": {
        "id": "ANEtIU6jOPb9",
        "colab_type": "code",
        "outputId": "0e5626f6-f82e-4823-e13f-c48bbdfd29b2",
        "colab": {
          "base_uri": "https://localhost:8080/",
          "height": 35
        }
      },
      "source": [
        "len(X_2d)\n"
      ],
      "execution_count": 0,
      "outputs": [
        {
          "output_type": "execute_result",
          "data": {
            "text/plain": [
              "4999"
            ]
          },
          "metadata": {
            "tags": []
          },
          "execution_count": 53
        }
      ]
    },
    {
      "cell_type": "code",
      "metadata": {
        "id": "E2p2AwDeOS2m",
        "colab_type": "code",
        "colab": {}
      },
      "source": [
        "\n",
        "from sklearn.model_selection import train_test_split\n",
        "X_train, X_test, y_train, y_test = train_test_split(X_2d, y, test_size=0.2, random_state=42)"
      ],
      "execution_count": 0,
      "outputs": []
    },
    {
      "cell_type": "code",
      "metadata": {
        "id": "n4zvRIg0Ps4M",
        "colab_type": "code",
        "outputId": "fe95a416-3bde-44ef-a8d1-de3022a73dc7",
        "colab": {
          "base_uri": "https://localhost:8080/",
          "height": 589
        }
      },
      "source": [
        "import lightgbm as lgb\n",
        "lgb_train = lgb.Dataset(X_train, y_train)\n",
        "lgb_eval = lgb.Dataset(X_test, y_test, reference=lgb_train)\n",
        "params = {\n",
        "    'boosting_type': 'gbdt',\n",
        "    'objective': 'regression',\n",
        "    'metric': {'l2', 'l1'},\n",
        "    'num_leaves': 60,\n",
        "    'learning_rate': 0.1,\n",
        "    'feature_fraction': 0.8,\n",
        "    'bagging_fraction': 0.8,\n",
        "    'bagging_freq': 20,\n",
        "    'verbose': 0\n",
        "}\n",
        "gbm = lgb.train(params,\n",
        "                lgb_train,\n",
        "                num_boost_round=500,\n",
        "                valid_sets=lgb_eval,\n",
        "                early_stopping_rounds=10)\n",
        "y_pred = gbm.predict(X_test, num_iteration=gbm.best_iteration)\n",
        "from sklearn.metrics import mean_squared_error\n",
        "from math import sqrt\n",
        "print(\" Root Mean Absolute Error : \",sqrt(mean_squared_error(y_pred, y_test)))"
      ],
      "execution_count": 0,
      "outputs": [
        {
          "output_type": "stream",
          "text": [
            "[1]\tvalid_0's l2: 4.15688e+07\tvalid_0's l1: 4450.67\n",
            "Training until validation scores don't improve for 10 rounds.\n",
            "[2]\tvalid_0's l2: 4.12301e+07\tvalid_0's l1: 4431.94\n",
            "[3]\tvalid_0's l2: 4.08609e+07\tvalid_0's l1: 4406.67\n",
            "[4]\tvalid_0's l2: 4.05433e+07\tvalid_0's l1: 4393.12\n",
            "[5]\tvalid_0's l2: 4.02915e+07\tvalid_0's l1: 4374.95\n",
            "[6]\tvalid_0's l2: 4.0126e+07\tvalid_0's l1: 4364.23\n",
            "[7]\tvalid_0's l2: 3.99604e+07\tvalid_0's l1: 4350.74\n",
            "[8]\tvalid_0's l2: 3.97571e+07\tvalid_0's l1: 4341.61\n",
            "[9]\tvalid_0's l2: 3.96657e+07\tvalid_0's l1: 4333.75\n",
            "[10]\tvalid_0's l2: 3.9574e+07\tvalid_0's l1: 4328.16\n",
            "[11]\tvalid_0's l2: 3.94828e+07\tvalid_0's l1: 4322\n",
            "[12]\tvalid_0's l2: 3.93935e+07\tvalid_0's l1: 4319.91\n",
            "[13]\tvalid_0's l2: 3.9352e+07\tvalid_0's l1: 4316.83\n",
            "[14]\tvalid_0's l2: 3.93146e+07\tvalid_0's l1: 4315.24\n",
            "[15]\tvalid_0's l2: 3.92303e+07\tvalid_0's l1: 4311.56\n",
            "[16]\tvalid_0's l2: 3.91701e+07\tvalid_0's l1: 4311.84\n",
            "[17]\tvalid_0's l2: 3.91231e+07\tvalid_0's l1: 4310.61\n",
            "[18]\tvalid_0's l2: 3.90596e+07\tvalid_0's l1: 4309.75\n",
            "[19]\tvalid_0's l2: 3.90589e+07\tvalid_0's l1: 4309.29\n",
            "[20]\tvalid_0's l2: 3.90683e+07\tvalid_0's l1: 4312.27\n",
            "[21]\tvalid_0's l2: 3.9043e+07\tvalid_0's l1: 4312.74\n",
            "[22]\tvalid_0's l2: 3.90232e+07\tvalid_0's l1: 4315.7\n",
            "[23]\tvalid_0's l2: 3.89991e+07\tvalid_0's l1: 4313.92\n",
            "[24]\tvalid_0's l2: 3.89852e+07\tvalid_0's l1: 4317.48\n",
            "[25]\tvalid_0's l2: 3.90042e+07\tvalid_0's l1: 4316.31\n",
            "[26]\tvalid_0's l2: 3.90215e+07\tvalid_0's l1: 4322.3\n",
            "[27]\tvalid_0's l2: 3.90374e+07\tvalid_0's l1: 4323.99\n",
            "[28]\tvalid_0's l2: 3.90582e+07\tvalid_0's l1: 4328.87\n",
            "[29]\tvalid_0's l2: 3.91146e+07\tvalid_0's l1: 4330.23\n",
            "Early stopping, best iteration is:\n",
            "[19]\tvalid_0's l2: 3.90589e+07\tvalid_0's l1: 4309.29\n",
            " Root Mean Absolute Error :  6249.715095606945\n"
          ],
          "name": "stdout"
        }
      ]
    },
    {
      "cell_type": "code",
      "metadata": {
        "id": "PPGG3CdBQsXn",
        "colab_type": "code",
        "colab": {}
      },
      "source": [
        "df=pd.read_excel(\"Airline Dataset1.csv.xlsx\")"
      ],
      "execution_count": 0,
      "outputs": []
    },
    {
      "cell_type": "code",
      "metadata": {
        "id": "ux_1otl7Q7Np",
        "colab_type": "code",
        "colab": {}
      },
      "source": [
        "y=df.Fare\n",
        "df=df.drop([\"Fare\",\"SL. No.\"],axis=1)"
      ],
      "execution_count": 0,
      "outputs": []
    },
    {
      "cell_type": "code",
      "metadata": {
        "id": "xLFySqC6Q-9O",
        "colab_type": "code",
        "colab": {}
      },
      "source": [
        "from sklearn.model_selection import train_test_split\n",
        "X_train, X_test, y_train, y_test = train_test_split(df, y, test_size=0.2, random_state=42)"
      ],
      "execution_count": 0,
      "outputs": []
    },
    {
      "cell_type": "code",
      "metadata": {
        "id": "m9PlFggQRGCZ",
        "colab_type": "code",
        "outputId": "9e1761db-f096-4d8f-d4c4-c8928c7626b5",
        "colab": {
          "base_uri": "https://localhost:8080/",
          "height": 1000
        }
      },
      "source": [
        "import lightgbm as lgb\n",
        "lgb_train = lgb.Dataset(X_train, y_train)\n",
        "lgb_eval = lgb.Dataset(X_test, y_test, reference=lgb_train)\n",
        "params = {\n",
        "    'boosting_type': 'gbdt',\n",
        "    'objective': 'regression',\n",
        "    'metric': {'l2', 'l1'},\n",
        "    'num_leaves': 60,\n",
        "    'learning_rate': 0.1,\n",
        "    'feature_fraction': 0.8,\n",
        "    'bagging_fraction': 0.8,\n",
        "    'bagging_freq': 20,\n",
        "    'verbose': 0\n",
        "}\n",
        "gbm = lgb.train(params,\n",
        "                lgb_train,\n",
        "                num_boost_round=500,\n",
        "                valid_sets=lgb_eval,\n",
        "                early_stopping_rounds=10)\n",
        "y_pred = gbm.predict(X_test, num_iteration=gbm.best_iteration)\n",
        "from sklearn.metrics import mean_squared_error\n",
        "from math import sqrt\n",
        "print(\" Root Mean Absolute Error : \",sqrt(mean_squared_error(y_pred, y_test)))"
      ],
      "execution_count": 0,
      "outputs": [
        {
          "output_type": "stream",
          "text": [
            "[1]\tvalid_0's l2: 3.77332e+07\tvalid_0's l1: 4188.1\n",
            "Training until validation scores don't improve for 10 rounds.\n",
            "[2]\tvalid_0's l2: 3.44218e+07\tvalid_0's l1: 3956.38\n",
            "[3]\tvalid_0's l2: 3.1403e+07\tvalid_0's l1: 3757.92\n",
            "[4]\tvalid_0's l2: 2.86863e+07\tvalid_0's l1: 3570.15\n",
            "[5]\tvalid_0's l2: 2.78482e+07\tvalid_0's l1: 3512.22\n",
            "[6]\tvalid_0's l2: 2.5915e+07\tvalid_0's l1: 3379.7\n",
            "[7]\tvalid_0's l2: 2.42465e+07\tvalid_0's l1: 3257.53\n",
            "[8]\tvalid_0's l2: 2.28334e+07\tvalid_0's l1: 3146.93\n",
            "[9]\tvalid_0's l2: 2.15965e+07\tvalid_0's l1: 3059.3\n",
            "[10]\tvalid_0's l2: 2.04377e+07\tvalid_0's l1: 2966.63\n",
            "[11]\tvalid_0's l2: 1.94487e+07\tvalid_0's l1: 2883.79\n",
            "[12]\tvalid_0's l2: 1.88083e+07\tvalid_0's l1: 2827.08\n",
            "[13]\tvalid_0's l2: 1.82094e+07\tvalid_0's l1: 2765.63\n",
            "[14]\tvalid_0's l2: 1.76167e+07\tvalid_0's l1: 2713.51\n",
            "[15]\tvalid_0's l2: 1.70645e+07\tvalid_0's l1: 2671.51\n",
            "[16]\tvalid_0's l2: 1.67163e+07\tvalid_0's l1: 2637.41\n",
            "[17]\tvalid_0's l2: 1.65353e+07\tvalid_0's l1: 2623.12\n",
            "[18]\tvalid_0's l2: 1.60812e+07\tvalid_0's l1: 2578.93\n",
            "[19]\tvalid_0's l2: 1.57957e+07\tvalid_0's l1: 2557.34\n",
            "[20]\tvalid_0's l2: 1.55205e+07\tvalid_0's l1: 2534.97\n",
            "[21]\tvalid_0's l2: 1.52631e+07\tvalid_0's l1: 2522.46\n",
            "[22]\tvalid_0's l2: 1.50492e+07\tvalid_0's l1: 2511.95\n",
            "[23]\tvalid_0's l2: 1.49029e+07\tvalid_0's l1: 2497.11\n",
            "[24]\tvalid_0's l2: 1.46614e+07\tvalid_0's l1: 2481.05\n",
            "[25]\tvalid_0's l2: 1.45237e+07\tvalid_0's l1: 2475.64\n",
            "[26]\tvalid_0's l2: 1.37741e+07\tvalid_0's l1: 2390.62\n",
            "[27]\tvalid_0's l2: 1.33722e+07\tvalid_0's l1: 2352.04\n",
            "[28]\tvalid_0's l2: 1.30859e+07\tvalid_0's l1: 2306.22\n",
            "[29]\tvalid_0's l2: 1.28012e+07\tvalid_0's l1: 2271.63\n",
            "[30]\tvalid_0's l2: 1.27229e+07\tvalid_0's l1: 2269.55\n",
            "[31]\tvalid_0's l2: 1.27261e+07\tvalid_0's l1: 2269.75\n",
            "[32]\tvalid_0's l2: 1.21563e+07\tvalid_0's l1: 2199.94\n",
            "[33]\tvalid_0's l2: 1.20226e+07\tvalid_0's l1: 2189.93\n",
            "[34]\tvalid_0's l2: 1.19362e+07\tvalid_0's l1: 2184.48\n",
            "[35]\tvalid_0's l2: 1.18868e+07\tvalid_0's l1: 2179.43\n",
            "[36]\tvalid_0's l2: 1.17152e+07\tvalid_0's l1: 2158.09\n",
            "[37]\tvalid_0's l2: 1.16209e+07\tvalid_0's l1: 2151.99\n",
            "[38]\tvalid_0's l2: 1.15877e+07\tvalid_0's l1: 2151.3\n",
            "[39]\tvalid_0's l2: 1.15191e+07\tvalid_0's l1: 2147.05\n",
            "[40]\tvalid_0's l2: 1.144e+07\tvalid_0's l1: 2144.77\n",
            "[41]\tvalid_0's l2: 1.14476e+07\tvalid_0's l1: 2143.43\n",
            "[42]\tvalid_0's l2: 1.0996e+07\tvalid_0's l1: 2100.3\n",
            "[43]\tvalid_0's l2: 1.09348e+07\tvalid_0's l1: 2095.61\n",
            "[44]\tvalid_0's l2: 1.04409e+07\tvalid_0's l1: 2043.2\n",
            "[45]\tvalid_0's l2: 1.03693e+07\tvalid_0's l1: 2037.01\n",
            "[46]\tvalid_0's l2: 1.01172e+07\tvalid_0's l1: 2008.95\n",
            "[47]\tvalid_0's l2: 9.93541e+06\tvalid_0's l1: 1988.55\n",
            "[48]\tvalid_0's l2: 9.8428e+06\tvalid_0's l1: 1979.27\n",
            "[49]\tvalid_0's l2: 9.83384e+06\tvalid_0's l1: 1976.05\n",
            "[50]\tvalid_0's l2: 9.82181e+06\tvalid_0's l1: 1976.25\n",
            "[51]\tvalid_0's l2: 9.65444e+06\tvalid_0's l1: 1958.37\n",
            "[52]\tvalid_0's l2: 9.61157e+06\tvalid_0's l1: 1954.58\n",
            "[53]\tvalid_0's l2: 9.51888e+06\tvalid_0's l1: 1945.5\n",
            "[54]\tvalid_0's l2: 9.49226e+06\tvalid_0's l1: 1942.81\n",
            "[55]\tvalid_0's l2: 9.48937e+06\tvalid_0's l1: 1943.65\n",
            "[56]\tvalid_0's l2: 9.48869e+06\tvalid_0's l1: 1944.17\n",
            "[57]\tvalid_0's l2: 9.51247e+06\tvalid_0's l1: 1946.68\n",
            "[58]\tvalid_0's l2: 9.5348e+06\tvalid_0's l1: 1948.25\n",
            "[59]\tvalid_0's l2: 9.45304e+06\tvalid_0's l1: 1941.62\n",
            "[60]\tvalid_0's l2: 9.45772e+06\tvalid_0's l1: 1943.34\n",
            "[61]\tvalid_0's l2: 9.39938e+06\tvalid_0's l1: 1941.62\n",
            "[62]\tvalid_0's l2: 9.3999e+06\tvalid_0's l1: 1942.25\n",
            "[63]\tvalid_0's l2: 9.38123e+06\tvalid_0's l1: 1941.71\n",
            "[64]\tvalid_0's l2: 9.39616e+06\tvalid_0's l1: 1944.57\n",
            "[65]\tvalid_0's l2: 9.37666e+06\tvalid_0's l1: 1940.18\n",
            "[66]\tvalid_0's l2: 9.30419e+06\tvalid_0's l1: 1930.04\n",
            "[67]\tvalid_0's l2: 9.27551e+06\tvalid_0's l1: 1927.47\n",
            "[68]\tvalid_0's l2: 9.28677e+06\tvalid_0's l1: 1929.44\n",
            "[69]\tvalid_0's l2: 9.27367e+06\tvalid_0's l1: 1927.51\n",
            "[70]\tvalid_0's l2: 9.22533e+06\tvalid_0's l1: 1924.19\n",
            "[71]\tvalid_0's l2: 9.22787e+06\tvalid_0's l1: 1923.85\n",
            "[72]\tvalid_0's l2: 9.22292e+06\tvalid_0's l1: 1924.53\n",
            "[73]\tvalid_0's l2: 9.21832e+06\tvalid_0's l1: 1925.35\n",
            "[74]\tvalid_0's l2: 9.22951e+06\tvalid_0's l1: 1924.11\n",
            "[75]\tvalid_0's l2: 9.21757e+06\tvalid_0's l1: 1922.45\n",
            "[76]\tvalid_0's l2: 9.2273e+06\tvalid_0's l1: 1923.99\n",
            "[77]\tvalid_0's l2: 9.20594e+06\tvalid_0's l1: 1923.22\n",
            "[78]\tvalid_0's l2: 9.13884e+06\tvalid_0's l1: 1918.16\n",
            "[79]\tvalid_0's l2: 9.14021e+06\tvalid_0's l1: 1920.25\n",
            "[80]\tvalid_0's l2: 9.15626e+06\tvalid_0's l1: 1921.37\n",
            "[81]\tvalid_0's l2: 9.10277e+06\tvalid_0's l1: 1914.41\n",
            "[82]\tvalid_0's l2: 9.11468e+06\tvalid_0's l1: 1913.9\n",
            "[83]\tvalid_0's l2: 9.10215e+06\tvalid_0's l1: 1912.83\n",
            "[84]\tvalid_0's l2: 9.08417e+06\tvalid_0's l1: 1911.27\n",
            "[85]\tvalid_0's l2: 9.09114e+06\tvalid_0's l1: 1911.13\n",
            "[86]\tvalid_0's l2: 9.10632e+06\tvalid_0's l1: 1912.08\n",
            "[87]\tvalid_0's l2: 9.12186e+06\tvalid_0's l1: 1913.83\n",
            "[88]\tvalid_0's l2: 9.10881e+06\tvalid_0's l1: 1914.3\n",
            "[89]\tvalid_0's l2: 9.09262e+06\tvalid_0's l1: 1913.05\n",
            "[90]\tvalid_0's l2: 9.07583e+06\tvalid_0's l1: 1910.9\n",
            "[91]\tvalid_0's l2: 9.07246e+06\tvalid_0's l1: 1907.61\n",
            "[92]\tvalid_0's l2: 9.04956e+06\tvalid_0's l1: 1905.66\n",
            "[93]\tvalid_0's l2: 9.04499e+06\tvalid_0's l1: 1903.24\n",
            "[94]\tvalid_0's l2: 9.03175e+06\tvalid_0's l1: 1903.96\n",
            "[95]\tvalid_0's l2: 9.02149e+06\tvalid_0's l1: 1903.76\n",
            "[96]\tvalid_0's l2: 8.98471e+06\tvalid_0's l1: 1898.91\n",
            "[97]\tvalid_0's l2: 9.00338e+06\tvalid_0's l1: 1900.89\n",
            "[98]\tvalid_0's l2: 9.00812e+06\tvalid_0's l1: 1901.82\n",
            "[99]\tvalid_0's l2: 9.03072e+06\tvalid_0's l1: 1904.7\n",
            "[100]\tvalid_0's l2: 9.02121e+06\tvalid_0's l1: 1904.76\n",
            "[101]\tvalid_0's l2: 9.01707e+06\tvalid_0's l1: 1904.75\n",
            "[102]\tvalid_0's l2: 9.03823e+06\tvalid_0's l1: 1907.46\n",
            "[103]\tvalid_0's l2: 9.0391e+06\tvalid_0's l1: 1909.99\n",
            "[104]\tvalid_0's l2: 9.05696e+06\tvalid_0's l1: 1911.68\n",
            "[105]\tvalid_0's l2: 9.02216e+06\tvalid_0's l1: 1909.19\n",
            "[106]\tvalid_0's l2: 9.02744e+06\tvalid_0's l1: 1912.53\n",
            "Early stopping, best iteration is:\n",
            "[96]\tvalid_0's l2: 8.98471e+06\tvalid_0's l1: 1898.91\n",
            " Root Mean Absolute Error :  2997.450059889507\n"
          ],
          "name": "stdout"
        }
      ]
    },
    {
      "cell_type": "code",
      "metadata": {
        "id": "AGe5E0-vRKzp",
        "colab_type": "code",
        "colab": {}
      },
      "source": [
        "from sklearn.linear_model import LinearRegression"
      ],
      "execution_count": 0,
      "outputs": []
    },
    {
      "cell_type": "code",
      "metadata": {
        "id": "g0vI_IYTRohY",
        "colab_type": "code",
        "colab": {}
      },
      "source": [
        "reg = LinearRegression().fit(X_train, y_train)\n"
      ],
      "execution_count": 0,
      "outputs": []
    },
    {
      "cell_type": "code",
      "metadata": {
        "id": "Nv2aIVTNRw1H",
        "colab_type": "code",
        "outputId": "a7556697-2144-4d8c-8da5-c3a5d59b750c",
        "colab": {
          "base_uri": "https://localhost:8080/",
          "height": 35
        }
      },
      "source": [
        "\n",
        "print(\" Root Mean Absolute Error : \",sqrt(mean_squared_error(reg.predict(X_test), y_test)))"
      ],
      "execution_count": 0,
      "outputs": [
        {
          "output_type": "stream",
          "text": [
            " Root Mean Absolute Error :  4945.590070169163\n"
          ],
          "name": "stdout"
        }
      ]
    },
    {
      "cell_type": "code",
      "metadata": {
        "id": "h_lbGeU2SDWw",
        "colab_type": "code",
        "colab": {}
      },
      "source": [
        "from sklearn.ensemble import ExtraTreesRegressor\n",
        "reg3 = ExtraTreesRegressor(random_state=123, n_estimators=500,max_depth=100) \n",
        "ereg = reg3.fit(X_train, y_train)"
      ],
      "execution_count": 0,
      "outputs": []
    },
    {
      "cell_type": "code",
      "metadata": {
        "id": "CdLeW4TVSl-h",
        "colab_type": "code",
        "outputId": "a5e0586f-c3ce-41e4-9413-e1f8fe09c629",
        "colab": {
          "base_uri": "https://localhost:8080/",
          "height": 35
        }
      },
      "source": [
        "print(\" Root Mean Absolute Error : \",sqrt(mean_squared_error(ereg.predict(X_test), y_test)))"
      ],
      "execution_count": 0,
      "outputs": [
        {
          "output_type": "stream",
          "text": [
            " Root Mean Absolute Error :  3682.9713541831093\n"
          ],
          "name": "stdout"
        }
      ]
    },
    {
      "cell_type": "code",
      "metadata": {
        "id": "AwQ4fVr-TuvN",
        "colab_type": "code",
        "colab": {}
      },
      "source": [
        ""
      ],
      "execution_count": 0,
      "outputs": []
    }
  ]
}